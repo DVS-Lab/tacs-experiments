{
 "cells": [
  {
   "cell_type": "code",
   "execution_count": 1,
   "metadata": {},
   "outputs": [],
   "source": [
    "import pandas as pd\n",
    "import matplotlib.pyplot as plt\n",
    "import numpy as np\n",
    "plt.rcParams[\"font.family\"] = \"Arial\""
   ]
  },
  {
   "cell_type": "code",
   "execution_count": 2,
   "metadata": {},
   "outputs": [],
   "source": [
    "#fairness rating - neutral, low, high \n",
    "N = 3\n",
    "tpj_means = (75, 77.77777778, 72.22222222)\n",
    "tpj_sem = (6.505126932, 5.82824626, 3.501400046)\n",
    "dlpfc_means = (75, 75, 81.94444444)\n",
    "dlpfc_sem = (4.472769664, 6.505126932, 7.765475087)\n",
    "sync_means = (76.38888889, 72.22222222, 69.16526296)\n",
    "sync_sem = (3.582590912, 3.593920615, 5.508363045)"
   ]
  },
  {
   "cell_type": "code",
   "execution_count": 5,
   "metadata": {},
   "outputs": [
    {
     "data": {
      "image/png": "[encoded data removed]",
      "text/plain": [
       "<Figure size 432x288 with 1 Axes>"
      ]
     },
     "metadata": {
      "needs_background": "light"
     },
     "output_type": "display_data"
    }
   ],
   "source": [
    "ind = np.arange(N)  # the x locations for the groups\n",
    "width = 0.25  \n",
    "\n",
    "ig, ax = plt.subplots()\n",
    "plot1 = ax.bar(ind, tpj_means, width, color='g', yerr=tpj_sem, edgecolor='black')\n",
    "plot2 = ax.bar(ind + width, dlpfc_means, width, color='b', yerr=dlpfc_sem, edgecolor='black')\n",
    "plot3 = ax.bar(ind + width + width, sync_means, width, color='r', yerr=sync_sem, edgecolor='black')\n",
    "\n",
    "ax.set_ylabel('% Rejected')\n",
    "ax.set_title('Rejections by Fairness Rating and Stimulation Type')\n",
    "ax.set_xticks(ind + width / 2)\n",
    "ax.set_xticklabels(('No Fairness Rating', 'Low Fairness Rating', 'High Fairness Rating'))\n",
    "ax.legend((plot1[0], plot2[0], plot3[0]),('rTPJ', 'rDLPFC', 'Sync'), prop={'size': 7})\n",
    "plt.locator_params(axis='y', nbins=5)\n",
    "plt.ylim([0, 100])\n",
    "def autolabel(rects):\n",
    "    \"\"\"\n",
    "    Attach a text label above each bar displaying its height\n",
    "    \"\"\"\n",
    "    for rect in rects:\n",
    "        height = rect.get_height()\n",
    "        ax.text(rect.get_x() + rect.get_width()/2., 1.05*height,\n",
    "                '%d' % int(height),\n",
    "                ha='center', va='bottom')\n",
    "plt.show()"
   ]
  },
  {
   "cell_type": "code",
   "execution_count": null,
   "metadata": {},
   "outputs": [],
   "source": []
  }
 ],
 "metadata": {
  "kernelspec": {
   "display_name": "Python 3",
   "language": "python",
   "name": "python3"
  },
  "language_info": {
   "codemirror_mode": {
    "name": "ipython",
    "version": 3
   },
   "file_extension": ".py",
   "mimetype": "text/x-python",
   "name": "python",
   "nbconvert_exporter": "python",
   "pygments_lexer": "ipython3",
   "version": "3.7.1"
  }
 },
 "nbformat": 4,
 "nbformat_minor": 2
}
