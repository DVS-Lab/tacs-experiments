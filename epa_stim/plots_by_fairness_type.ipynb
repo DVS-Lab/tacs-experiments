{
 "cells": [
  {
   "cell_type": "code",
   "execution_count": 4,
   "metadata": {},
   "outputs": [],
   "source": [
    "import pandas as pd\n",
    "import matplotlib.pyplot as plt\n",
    "import numpy as np"
   ]
  },
  {
   "cell_type": "code",
   "execution_count": 5,
   "metadata": {},
   "outputs": [],
   "source": [
    "# neutral rating\n",
    "# rtpj, rdlpfc, sync\n",
    "neutral_unfair_means = (80.55555556, 77.77777778, 83.33333333)\n",
    "neutral_fair_means = (02.777777778, 11.11111111, 08.333333333)\n",
    "sme_neutral_unfair = (11.20540795, 11.11111111, 11.23666437)\n",
    "sme_neutral_fair = (02.777777778, 06.267511942, 08.333333333)"
   ]
  },
  {
   "cell_type": "code",
   "execution_count": 7,
   "metadata": {},
   "outputs": [
    {
     "data": {
      "image/png": "[encoded data removed]",
      "text/plain": [
       "<Figure size 432x288 with 1 Axes>"
      ]
     },
     "metadata": {
      "needs_background": "light"
     },
     "output_type": "display_data"
    }
   ],
   "source": [
    "N = 3\n",
    "ind = np.arange(N)  # the x locations for the groups\n",
    "width = 0.35  \n",
    "\n",
    "ig, ax = plt.subplots()\n",
    "plot1 = ax.bar(ind, neutral_unfair_means, width, color='r', yerr = sme_neutral_unfair)\n",
    "plot2 = ax.bar(ind + width, neutral_fair_means, width, color='b', yerr = sme_neutral_fair)\n",
    "\n",
    "\n",
    "\n",
    "ax.set_ylabel('% Rejected')\n",
    "ax.set_title('Neutral Fairness Rating')\n",
    "ax.set_xticks(ind + width / 2)\n",
    "ax.set_xticklabels(('rTPJ', 'rDLPFC', 'Sync'))\n",
    "ax.legend((plot1[0], plot2[0]),('Unfair Offer', 'Fair Offer'), prop={'size': 7})\n",
    "plt.locator_params(axis='y', nbins=5)\n",
    "plt.ylim([0, 100])\n",
    "def autolabel(rects):\n",
    "    \"\"\"\n",
    "    Attach a text label above each bar displaying its height\n",
    "    \"\"\"\n",
    "    for rect in rects:\n",
    "        height = rect.get_height()\n",
    "        ax.text(rect.get_x() + rect.get_width()/2., 1.05*height,\n",
    "                '%d' % int(height),\n",
    "                ha='center', va='bottom')\n",
    "plt.show()"
   ]
  },
  {
   "cell_type": "code",
   "execution_count": 40,
   "metadata": {},
   "outputs": [],
   "source": [
    "# low rating\n",
    "# # rtpj, rdlpfc, sync\n",
    "low_unfair_means = (83.33333333, 80.55555556, 83.33333333 )\n",
    "low_fair_means = (05.555555556, 0, 08.333333333)\n",
    "sme_low_unfair = (11.23666437, 11.20540795, 11.23666437)\n",
    "sme_low_fair = (03.745554791, 0, 05.981171355)"
   ]
  },
  {
   "cell_type": "code",
   "execution_count": 41,
   "metadata": {},
   "outputs": [
    {
     "data": {
      "image/png": "[encoded data removed]",
      "text/plain": [
       "<Figure size 432x288 with 1 Axes>"
      ]
     },
     "metadata": {
      "needs_background": "light"
     },
     "output_type": "display_data"
    }
   ],
   "source": [
    "N = 3\n",
    "ind = np.arange(N)  # the x locations for the groups\n",
    "width = 0.35  \n",
    "\n",
    "ig, ax = plt.subplots()\n",
    "plot1 = ax.bar(ind, low_unfair_means, width, color='r', yerr = sme_low_unfair)\n",
    "plot2 = ax.bar(ind + width, low_fair_means, width, color='b', yerr = sme_low_fair)\n",
    "\n",
    "ax.set_ylabel('% Rejected')\n",
    "ax.set_title('Low Fairness Rating')\n",
    "ax.set_xticks(ind + width / 2)\n",
    "ax.set_xticklabels(('rTPJ', 'rDLPFC', 'Sync'))\n",
    "ax.legend((plot1[0], plot2[0]),('Unfair Offer', 'Fair Offer'), prop={'size': 7})\n",
    "plt.locator_params(axis='y', nbins=5)\n",
    "plt.ylim([0, 100])\n",
    "def autolabel(rects):\n",
    "    \"\"\"\n",
    "    Attach a text label above each bar displaying its height\n",
    "    \"\"\"\n",
    "    for rect in rects:\n",
    "        height = rect.get_height()\n",
    "        ax.text(rect.get_x() + rect.get_width()/2., 1.05*height,\n",
    "                '%d' % int(height),\n",
    "                ha='center', va='bottom')\n",
    "plt.show()"
   ]
  },
  {
   "cell_type": "code",
   "execution_count": 42,
   "metadata": {},
   "outputs": [],
   "source": [
    "# high rating\n",
    "# # rtpj, rdlpfc, sync\n",
    "high_unfair_means = (80.55555556, 83.33333333, 76.38888889)\n",
    "high_fair_means = (11.11111111, 0, 06.944444444)\n",
    "sme_high_unfair = (11.20540795, 11.23666437, 11.32217464)\n",
    "sme_high_fair = (08.541179053, 0, 04.792993156)"
   ]
  },
  {
   "cell_type": "code",
   "execution_count": 43,
   "metadata": {},
   "outputs": [
    {
     "data": {
      "image/png": "[encoded data removed]",
      "text/plain": [
       "<Figure size 432x288 with 1 Axes>"
      ]
     },
     "metadata": {
      "needs_background": "light"
     },
     "output_type": "display_data"
    }
   ],
   "source": [
    "N = 3\n",
    "ind = np.arange(N)  # the x locations for the groups\n",
    "width = 0.35  \n",
    "\n",
    "ig, ax = plt.subplots()\n",
    "plot1 = ax.bar(ind, high_unfair_means, width, color='r', yerr = sme_high_unfair)\n",
    "plot2 = ax.bar(ind + width, high_fair_means, width, color='b', yerr = sme_high_fair)\n",
    "\n",
    "ax.set_ylabel('% Rejected')\n",
    "ax.set_title('High Fairness Rating')\n",
    "ax.set_xticks(ind + width / 2)\n",
    "ax.set_xticklabels(('rTPJ', 'rDLPFC', 'Sync'))\n",
    "ax.legend((plot1[0], plot2[0]),('Unfair Offer', 'Fair Offer'), prop={'size': 7})\n",
    "plt.locator_params(axis='y', nbins=5)\n",
    "plt.ylim([0, 100])\n",
    "def autolabel(rects):\n",
    "    \"\"\"\n",
    "    Attach a text label above each bar displaying its height\n",
    "    \"\"\"\n",
    "    for rect in rects:\n",
    "        height = rect.get_height()\n",
    "        ax.text(rect.get_x() + rect.get_width()/2., 1.05*height,\n",
    "                '%d' % int(height),\n",
    "                ha='center', va='bottom')\n",
    "plt.show()"
   ]
  },
  {
   "cell_type": "code",
   "execution_count": null,
   "metadata": {},
   "outputs": [],
   "source": []
  }
 ],
 "metadata": {
  "kernelspec": {
   "display_name": "Python 3",
   "language": "python",
   "name": "python3"
  },
  "language_info": {
   "codemirror_mode": {
    "name": "ipython",
    "version": 3
   },
   "file_extension": ".py",
   "mimetype": "text/x-python",
   "name": "python",
   "nbconvert_exporter": "python",
   "pygments_lexer": "ipython3",
   "version": "3.7.1"
  }
 },
 "nbformat": 4,
 "nbformat_minor": 2
}
