{
 "cells": [
  {
   "cell_type": "code",
   "execution_count": 1,
   "metadata": {},
   "outputs": [],
   "source": [
    "#person\n",
    "import pandas as pd\n",
    "import matplotlib.pyplot as plt\n",
    "import numpy as np\n",
    "plt.rcParams[\"font.family\"] = \"Arial\""
   ]
  },
  {
   "cell_type": "code",
   "execution_count": 2,
   "metadata": {},
   "outputs": [],
   "source": [
    "# \"tACS_rTPJ\",\"tACS_rDLPFC\",\"tACS_Sync\",\"tRNS_rTPJ\",\"tRNS_rDLPFC\",\"Sham\"\n",
    "N = 6\n",
    "mean_person_baseline = (31.55128205, 25.93589744, 31.47435897, 27.17948718, 33.65384615, 25.70512821)\n",
    "mean_person_punishment = (61.44871795, 61.29487179, 57.42307692, 60.5, 58.84615385, 63.37179487)\n",
    "\n",
    "sme_person_baseline = (6.714289961, 4.302633629, 6.79622628, 5.695954403, 5.35094786, 6.256397121)\n",
    "sme_person_punishment = (4.114605725, 3.911874403, 4.491389966, 4.576432256, 4.426531538, 4.526518643)"
   ]
  },
  {
   "cell_type": "code",
   "execution_count": 3,
   "metadata": {},
   "outputs": [],
   "source": [
    "# \"tACS_rTPJ\",\"tACS_rDLPFC\",\"tACS_Sync\",\"tRNS_rTPJ\",\"tRNS_rDLPFC\",\"Sham\"\n",
    "N = 6\n",
    "mean_pc_baseline = (25.6025641, 20.35897436, 24.33333333, 22.35897436, 23, 23.52564103)\n",
    "mean_pc_punishment = (62.84615385, 58.20512821, 57.93589744, 50.66666667, 56.15384615, 59.1025641)\n",
    "\n",
    "sme_pc_baseline = (7.483589322, 5.074721097, 7.71251619, 6.441575202, 5.262348116, 7.241456459)\n",
    "sme_pc_punishment = (5.801299759, 5.025510202, 5.210509407, 6.670511712, 5.065330372, 4.905718597)"
   ]
  },
  {
   "cell_type": "code",
   "execution_count": 22,
   "metadata": {},
   "outputs": [
    {
     "data": {
      "image/png": "[encoded data removed]",
      "text/plain": [
       "<Figure size 432x288 with 1 Axes>"
      ]
     },
     "metadata": {
      "needs_background": "light"
     },
     "output_type": "display_data"
    },
    {
     "data": {
      "text/plain": [
       "<Figure size 432x288 with 0 Axes>"
      ]
     },
     "metadata": {},
     "output_type": "display_data"
    }
   ],
   "source": [
    "ind = np.arange(N)  # the x locations for the groups\n",
    "width = 0.20 \n",
    "\n",
    "ig, ax = plt.subplots()\n",
    "plot1 = ax.bar(ind, mean_pc_baseline, width, color='r', yerr=sme_pc_baseline, edgecolor='black')\n",
    "plot2 = ax.bar(ind + width, mean_pc_punishment, width, color='y', yerr=sme_pc_punishment, edgecolor='black')\n",
    "plot3 = ax.bar(ind + width + width, mean_person_baseline, width, color='b', yerr=sme_person_baseline, edgecolor='black')\n",
    "plot4 = ax.bar(ind + width + width + width, mean_person_punishment, width, color='grey', yerr=sme_person_punishment, edgecolor='black')\n",
    "\n",
    "ax.set_ylabel('Money Units Transferred')\n",
    "ax.set_title('Money Units Transferred')\n",
    "ax.set_xticks(ind + width/.65)\n",
    "ax.set_xticklabels(('tACS rTPJ', 'tACS rDLPFC', 'tACS Sync', 'tRNS rTPJ', 'tRNS rDLPFC', 'Sham'))\n",
    "ax.legend((plot1[0], plot2[0], plot3[0], plot4[0]),('Nonsocial Baseline', 'Nonsocial Punishment', 'Social Baseline', 'Social Punishment'), prop={'size': 5})\n",
    "plt.locator_params(axis='y', nbins=5)\n",
    "plt.ylim([0, 80])\n",
    "ax = plt.gca()\n",
    "ax.tick_params(axis = 'x', which = 'major', labelsize = 8)\n",
    "def autolabel(rects):\n",
    "    \"\"\"\n",
    "    Attach a text label above each bar displaying its height\n",
    "    \"\"\"\n",
    "    for rect in rects:\n",
    "        height = rect.get_height()\n",
    "        ax.text(rect.get_x() + rect.get_width()/2., 1.05*height,\n",
    "                '%d' % int(height),\n",
    "                ha='center', va='bottom')\n",
    "fig1 = plt.gcf()\n",
    "plt.show()\n",
    "plt.draw()\n",
    "fig1.savefig('mega_plot.pdf', dpi=100)       \n",
    "plt.show()"
   ]
  },
  {
   "cell_type": "code",
   "execution_count": null,
   "metadata": {},
   "outputs": [],
   "source": []
  }
 ],
 "metadata": {
  "kernelspec": {
   "display_name": "Python 3",
   "language": "python",
   "name": "python3"
  },
  "language_info": {
   "codemirror_mode": {
    "name": "ipython",
    "version": 3
   },
   "file_extension": ".py",
   "mimetype": "text/x-python",
   "name": "python",
   "nbconvert_exporter": "python",
   "pygments_lexer": "ipython3",
   "version": "3.7.1"
  }
 },
 "nbformat": 4,
 "nbformat_minor": 2
}
