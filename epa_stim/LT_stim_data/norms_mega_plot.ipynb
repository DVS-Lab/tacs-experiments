{
 "cells": [
  {
   "cell_type": "code",
   "execution_count": 1,
   "metadata": {},
   "outputs": [],
   "source": [
    "#person\n",
    "import pandas as pd\n",
    "import matplotlib.pyplot as plt\n",
    "import numpy as np\n",
    "plt.rcParams[\"font.family\"] = \"Arial\""
   ]
  },
  {
   "cell_type": "code",
   "execution_count": 7,
   "metadata": {},
   "outputs": [],
   "source": [
    "# social baseline , nonsocial baseline, social punishment, nonsocial punishment\n",
    "N = 4\n",
    "mean_tacs_rtpj = (31.55128205, 25.6025641, 61.44871795, 62.84615385)\n",
    "sme_tacs_rtpj = (6.714289961, 7.483589322, 4.114605725, 5.801299759)\n",
    "\n",
    "mean_tacs_rdlpfc = (25.93589744, 20.35897436, 61.29487179, 58.20512821)\n",
    "sme_tacs_rdlpfc = (4.302633629, 5.074721097, 3.911874403, 5.025510202)\n",
    "\n",
    "mean_tacs_sync = (31.47435897, 24.33333333, 57.42307692, 57.93589744)\n",
    "sme_tacs_sync = (6.79622628, 7.71251619, 4.491389966, 5.210509407)\n",
    "\n",
    "mean_trcs_rtpj = (27.17948718, 22.35897436, 60.5, 50.66666667)\n",
    "sme_trcs_rtpj = (5.695954403, 6.441575202, 4.576432256, 6.670511712)\n",
    "\n",
    "mean_trcs_rdlpfc = (33.65384615, 23, 58.84615385, 56.15384615)\n",
    "sme_trcs_rdlpfc = (5.35094786, 5.262348116, 4.426531538, 5.065330372)\n",
    "\n",
    "mean_sham = (25.70512821, 23.52564103, 63.37179487, 59.1025641)\n",
    "sme_sham = (6.256397121, 7.241456459, 4.526518643, 4.905718597)"
   ]
  },
  {
   "cell_type": "code",
   "execution_count": 28,
   "metadata": {},
   "outputs": [
    {
     "data": {
      "image/png": "[encoded data removed]",
      "text/plain": [
       "<Figure size 432x288 with 1 Axes>"
      ]
     },
     "metadata": {
      "needs_background": "light"
     },
     "output_type": "display_data"
    },
    {
     "data": {
      "text/plain": [
       "<Figure size 432x288 with 0 Axes>"
      ]
     },
     "metadata": {},
     "output_type": "display_data"
    }
   ],
   "source": [
    "ind = np.arange(N)  # the x locations for the groups\n",
    "width = 0.13\n",
    "\n",
    "ig, ax = plt.subplots()\n",
    "plot1 = ax.bar(ind, mean_tacs_rtpj, width, color='r', yerr=sme_tacs_rtpj, edgecolor='black')\n",
    "plot2 = ax.bar(ind + width, mean_tacs_rdlpfc, width, color='y', yerr=sme_tacs_rdlpfc, edgecolor='black')\n",
    "plot3 = ax.bar(ind + width + width, mean_tacs_sync, width, color='b', yerr=sme_tacs_sync, edgecolor='black')\n",
    "plot4 = ax.bar(ind + width + width + width, mean_trcs_rtpj, width, color='green', yerr=sme_trcs_rtpj, edgecolor='black')\n",
    "plot5 = ax.bar(ind + width + width + width + width, mean_trcs_rdlpfc, width, color='orange', yerr=sme_trcs_rdlpfc, edgecolor='black')\n",
    "plot6 = ax.bar(ind + width + width + width + width + width, mean_sham, width, color='purple', yerr=sme_sham, edgecolor='black')\n",
    "\n",
    "# social baseline , nonsocial baseline, social punishment, nonsocial punishment\n",
    "\n",
    "\n",
    "ax.set_ylabel('Money Units Transferred')\n",
    "ax.set_title('Money Units Transferred')\n",
    "ax.set_xticks(ind + width/.40)\n",
    "ax.set_xticklabels(('Baseline Social', 'Baseline Nonsocial', 'Punishment Social', 'Punishment Nonsocial'))\n",
    "ax.legend((plot1[0], plot2[0], plot3[0], plot4[0], plot5[0], plot6[0]),('tACS rTPJ', 'tACS rDLPFC', 'tACS Sync', 'tRNS rTPJ', 'tRNS rDLPFC', 'Sham'), prop={'size': 7})\n",
    "plt.locator_params(axis='y', nbins=5)\n",
    "plt.ylim([0, 80])\n",
    "ax = plt.gca()\n",
    "ax.tick_params(axis = 'x', which = 'major', labelsize = 8)\n",
    "\n",
    "def autolabel(rects):\n",
    "    \"\"\"\n",
    "    Attach a text label above each bar displaying its height\n",
    "    \"\"\"\n",
    "    for rect in rects:\n",
    "        height = rect.get_height()\n",
    "        ax.text(rect.get_x() + rect.get_width()/2., 1.05*height,\n",
    "                '%d' % int(height),\n",
    "                ha='center', va='bottom')\n",
    "fig1 = plt.gcf()\n",
    "plt.show()\n",
    "plt.draw()\n",
    "fig1.savefig('norms_mega_plot.pdf', dpi=100)       \n",
    "plt.show()"
   ]
  },
  {
   "cell_type": "code",
   "execution_count": null,
   "metadata": {},
   "outputs": [],
   "source": []
  }
 ],
 "metadata": {
  "kernelspec": {
   "display_name": "Python 3",
   "language": "python",
   "name": "python3"
  },
  "language_info": {
   "codemirror_mode": {
    "name": "ipython",
    "version": 3
   },
   "file_extension": ".py",
   "mimetype": "text/x-python",
   "name": "python",
   "nbconvert_exporter": "python",
   "pygments_lexer": "ipython3",
   "version": "3.7.1"
  }
 },
 "nbformat": 4,
 "nbformat_minor": 2
}
