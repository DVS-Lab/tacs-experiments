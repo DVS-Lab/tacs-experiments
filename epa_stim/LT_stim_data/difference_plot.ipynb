{
 "cells": [
  {
   "cell_type": "code",
   "execution_count": 2,
   "metadata": {},
   "outputs": [],
   "source": [
    "import pandas as pd\n",
    "import matplotlib.pyplot as plt\n",
    "import numpy as np\n",
    "plt.rcParams[\"font.family\"] = \"Arial\""
   ]
  },
  {
   "cell_type": "code",
   "execution_count": 9,
   "metadata": {},
   "outputs": [],
   "source": [
    "# \"tACS_rTPJ\",\"tACS_rDLPFC\",\"tACS_Sync\",\"tRNS_rTPJ\",\"tRNS_rDLPFC\",\"Sham\"\n",
    "N = 6\n",
    "mean_social = (29.8974359, 35.35897436, 25.94871795, 33.32051282, 25.19230769, 37.66666667)\n",
    "mean_nonsocial = (37.24358974, 37.84615385, 33.6025641, 28.30769231, 33.15384615, 35.57692308)\n",
    "\n",
    "sme_social = (2.599684235, 0.3907592267, 2.304836314, 1.119522147, 0.9244163215, 1.729878477)\n",
    "sme_nonsocial = (1.682289563, 0.04921089482, 2.502006783, 0.2289365099, 0.1970177443, 2.335737862)"
   ]
  },
  {
   "cell_type": "code",
   "execution_count": 15,
   "metadata": {},
   "outputs": [
    {
     "data": {
      "image/png": "[encoded data removed]",
      "text/plain": [
       "<Figure size 432x288 with 1 Axes>"
      ]
     },
     "metadata": {
      "needs_background": "light"
     },
     "output_type": "display_data"
    },
    {
     "data": {
      "text/plain": [
       "<Figure size 432x288 with 0 Axes>"
      ]
     },
     "metadata": {},
     "output_type": "display_data"
    }
   ],
   "source": [
    "ind = np.arange(N)  # the x locations for the groups\n",
    "width = 0.35 \n",
    "\n",
    "ig, ax = plt.subplots()\n",
    "plot1 = ax.bar(ind, mean_social, width, color='r', yerr=sme_social, edgecolor='black')\n",
    "plot2 = ax.bar(ind + width, mean_nonsocial, width, color='y', yerr=sme_nonsocial, edgecolor='black')\n",
    "\n",
    "ax.set_ylabel('Difference')\n",
    "ax.set_title('Money Units Transferred')\n",
    "ax.set_xticks(ind + width/2)\n",
    "ax.set_xticklabels(('tACS rTPJ', 'tACS rDLPFC', 'tACS Sync', 'tRNS rTPJ', 'tRNS rDLPFC', 'Sham'))\n",
    "ax.legend((plot1[0], plot2[0]),('Social', 'Nonsocial'), prop={'size': 8})\n",
    "plt.locator_params(axis='y', nbins=5)\n",
    "plt.ylim([0, 50])\n",
    "ax = plt.gca()\n",
    "ax.tick_params(axis = 'x', which = 'major', labelsize = 8)\n",
    "def autolabel(rects):\n",
    "    \"\"\"\n",
    "    Attach a text label above each bar displaying its height\n",
    "    \"\"\"\n",
    "    for rect in rects:\n",
    "        height = rect.get_height()\n",
    "        ax.text(rect.get_x() + rect.get_width()/2., 1.05*height,\n",
    "                '%d' % int(height),\n",
    "                ha='center', va='bottom')\n",
    "fig1 = plt.gcf()\n",
    "plt.show()\n",
    "plt.draw()\n",
    "fig1.savefig('difference.pdf', dpi=100)\n",
    "plt.show()"
   ]
  },
  {
   "cell_type": "code",
   "execution_count": null,
   "metadata": {},
   "outputs": [],
   "source": []
  }
 ],
 "metadata": {
  "kernelspec": {
   "display_name": "Python 3",
   "language": "python",
   "name": "python3"
  },
  "language_info": {
   "codemirror_mode": {
    "name": "ipython",
    "version": 3
   },
   "file_extension": ".py",
   "mimetype": "text/x-python",
   "name": "python",
   "nbconvert_exporter": "python",
   "pygments_lexer": "ipython3",
   "version": "3.7.1"
  }
 },
 "nbformat": 4,
 "nbformat_minor": 2
}
