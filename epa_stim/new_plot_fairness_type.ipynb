{
 "cells": [
  {
   "cell_type": "code",
   "execution_count": 25,
   "metadata": {},
   "outputs": [],
   "source": [
    "import pandas as pd\n",
    "import matplotlib.pyplot as plt\n",
    "import numpy as np\n",
    "plt.rcParams[\"font.family\"] = \"Arial\""
   ]
  },
  {
   "cell_type": "code",
   "execution_count": 26,
   "metadata": {},
   "outputs": [],
   "source": [
    "# neutral rating\n",
    "# rtpj, rdlpfc, sync\n",
    "neutral_unfair_means = (76.38888889, 80.55555556, 80.55555556)\n",
    "neutral_fair_means = (1.388888889, 5.555555556, 4.166666667)\n",
    "sme_neutral_unfair = (7.894015821, 7.749257579, 7.749257579)\n",
    "sme_neutral_fair = (1.388888889, 3.276487915, 4.166666667)"
   ]
  },
  {
   "cell_type": "code",
   "execution_count": 30,
   "metadata": {},
   "outputs": [
    {
     "data": {
      "image/png": "[encoded data removed]",
      "text/plain": [
       "<Figure size 432x288 with 1 Axes>"
      ]
     },
     "metadata": {
      "needs_background": "light"
     },
     "output_type": "display_data"
    }
   ],
   "source": [
    "N = 3\n",
    "ind = np.arange(N)  # the x locations for the groups\n",
    "width = 0.35  \n",
    "\n",
    "ig, ax = plt.subplots()\n",
    "plot1 = ax.bar(ind, neutral_unfair_means, width, color='r', yerr = sme_neutral_unfair, edgecolor='black')\n",
    "plot2 = ax.bar(ind + width, neutral_fair_means, width, color='b', yerr = sme_neutral_fair, edgecolor='black')\n",
    "\n",
    "\n",
    "\n",
    "ax.set_ylabel('% Rejected')\n",
    "ax.set_title('Neutral Fairness Rating')\n",
    "ax.set_xticks(ind + width / 2)\n",
    "ax.set_xticklabels(('rTPJ', 'rDLPFC', 'Sync'))\n",
    "ax.legend((plot1[0], plot2[0]),('Unfair Offer', 'Fair Offer'), prop={'size': 7})\n",
    "plt.locator_params(axis='y', nbins=5)\n",
    "plt.ylim([0, 100])\n",
    "def autolabel(rects):\n",
    "    \"\"\"\n",
    "    Attach a text label above each bar displaying its height\n",
    "    \"\"\"\n",
    "    for rect in rects:\n",
    "        height = rect.get_height()\n",
    "        ax.text(rect.get_x() + rect.get_width()/2., 1.05*height,\n",
    "                '%d' % int(height),\n",
    "                ha='center', va='bottom')\n",
    "\n",
    "plt.show()"
   ]
  },
  {
   "cell_type": "code",
   "execution_count": 31,
   "metadata": {},
   "outputs": [],
   "source": [
    "# low rating\n",
    "# # rtpj, rdlpfc, sync\n",
    "low_unfair_means = (80.55555556, 76.38888889, 80.55555556)\n",
    "low_fair_means = (2.777777778, 1.388888889, 8.333333333)\n",
    "sme_low_unfair = (7.749257579, 7.894015821, 7.211065333)\n",
    "sme_low_fair = (1.921011319, 1.388888889, 3.617144718)"
   ]
  },
  {
   "cell_type": "code",
   "execution_count": 32,
   "metadata": {},
   "outputs": [
    {
     "data": {
      "image/png": "[encoded data removed]",
      "text/plain": [
       "<Figure size 432x288 with 1 Axes>"
      ]
     },
     "metadata": {
      "needs_background": "light"
     },
     "output_type": "display_data"
    }
   ],
   "source": [
    "N = 3\n",
    "ind = np.arange(N)  # the x locations for the groups\n",
    "width = 0.35  \n",
    "\n",
    "ig, ax = plt.subplots()\n",
    "plot1 = ax.bar(ind, low_unfair_means, width, color='r', yerr = sme_low_unfair, edgecolor='black')\n",
    "plot2 = ax.bar(ind + width, low_fair_means, width, color='b', yerr = sme_low_fair, edgecolor='black')\n",
    "\n",
    "ax.set_ylabel('% Rejected')\n",
    "ax.set_title('Low Fairness Rating')\n",
    "ax.set_xticks(ind + width / 2)\n",
    "ax.set_xticklabels(('rTPJ', 'rDLPFC', 'Sync'))\n",
    "ax.legend((plot1[0], plot2[0]),('Unfair Offer', 'Fair Offer'), prop={'size': 7})\n",
    "plt.locator_params(axis='y', nbins=5)\n",
    "plt.ylim([0, 100])\n",
    "def autolabel(rects):\n",
    "    \"\"\"\n",
    "    Attach a text label above each bar displaying its height\n",
    "    \"\"\"\n",
    "    for rect in rects:\n",
    "        height = rect.get_height()\n",
    "        ax.text(rect.get_x() + rect.get_width()/2., 1.05*height,\n",
    "                '%d' % int(height),\n",
    "                ha='center', va='bottom')\n",
    "plt.show()"
   ]
  },
  {
   "cell_type": "code",
   "execution_count": 33,
   "metadata": {},
   "outputs": [],
   "source": [
    "# high rating\n",
    "# # rtpj, rdlpfc, sync\n",
    "high_unfair_means = (79.16666667, 81.94444444, 75.69444444)\n",
    "high_fair_means = (6.944444444, 0, 3.472222222)\n",
    "sme_high_unfair = (7.978559231, 7.765475087, 7.961459011)\n",
    "sme_high_fair = (4.477159186, 0, 2.453095966)"
   ]
  },
  {
   "cell_type": "code",
   "execution_count": 34,
   "metadata": {},
   "outputs": [
    {
     "data": {
      "image/png": "[encoded data removed]",
      "text/plain": [
       "<Figure size 432x288 with 1 Axes>"
      ]
     },
     "metadata": {
      "needs_background": "light"
     },
     "output_type": "display_data"
    }
   ],
   "source": [
    "N = 3\n",
    "ind = np.arange(N)  # the x locations for the groups\n",
    "width = 0.35  \n",
    "\n",
    "ig, ax = plt.subplots()\n",
    "plot1 = ax.bar(ind, high_unfair_means, width, color='r', yerr = sme_high_unfair, edgecolor='black')\n",
    "plot2 = ax.bar(ind + width, high_fair_means, width, color='b', yerr = sme_high_fair, edgecolor='black')\n",
    "\n",
    "ax.set_ylabel('% Rejected')\n",
    "ax.set_title('High Fairness Rating')\n",
    "ax.set_xticks(ind + width / 2)\n",
    "ax.set_xticklabels(('rTPJ', 'rDLPFC', 'Sync'))\n",
    "ax.legend((plot1[0], plot2[0]),('Unfair Offer', 'Fair Offer'), prop={'size': 7})\n",
    "plt.locator_params(axis='y', nbins=5)\n",
    "plt.ylim([0, 100])\n",
    "def autolabel(rects):\n",
    "    \"\"\"\n",
    "    Attach a text label above each bar displaying its height\n",
    "    \"\"\"\n",
    "    for rect in rects:\n",
    "        height = rect.get_height()\n",
    "        ax.text(rect.get_x() + rect.get_width()/2., 1.05*height,\n",
    "                '%d' % int(height),\n",
    "                ha='center', va='bottom')\n",
    "plt.show()"
   ]
  },
  {
   "cell_type": "code",
   "execution_count": null,
   "metadata": {},
   "outputs": [],
   "source": []
  }
 ],
 "metadata": {
  "kernelspec": {
   "display_name": "Python 3",
   "language": "python",
   "name": "python3"
  },
  "language_info": {
   "codemirror_mode": {
    "name": "ipython",
    "version": 3
   },
   "file_extension": ".py",
   "mimetype": "text/x-python",
   "name": "python",
   "nbconvert_exporter": "python",
   "pygments_lexer": "ipython3",
   "version": "3.7.1"
  }
 },
 "nbformat": 4,
 "nbformat_minor": 2
}
