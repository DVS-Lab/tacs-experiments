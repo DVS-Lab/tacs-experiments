{
 "cells": [
  {
   "cell_type": "code",
   "execution_count": 2,
   "metadata": {},
   "outputs": [],
   "source": [
    "import pandas as pd\n",
    "import matplotlib.pyplot as plt\n",
    "import numpy as np\n",
    "plt.rcParams[\"font.family\"] = \"Arial\""
   ]
  },
  {
   "cell_type": "code",
   "execution_count": 3,
   "metadata": {},
   "outputs": [],
   "source": [
    "#high, 1, 2, 3, 4, 5\n",
    "N = 5\n",
    "rtpj_means = (80.56, 77.78, 27.78, 2.78, 11.11)\n",
    "rdlpfc_means = (83.33, 80.56, 27.78, 0.00, 0.00)\n",
    "sync_means = (76.39, 77.78, 25.00, 8.33, 6.94)"
   ]
  },
  {
   "cell_type": "code",
   "execution_count": 4,
   "metadata": {},
   "outputs": [],
   "source": [
    "rtpj_sem = (11.21, 11.84, 12.87, 2.78, 8.54)\n",
    "rdlpfc_sem = (11.24, 11.21, 12.87, 0.00, 0.00)\n",
    "sync_sem = (11.32, 9.48, 11.70, 4.35, 4.79)"
   ]
  },
  {
   "cell_type": "code",
   "execution_count": 9,
   "metadata": {},
   "outputs": [
    {
     "data": {
      "image/png": "[encoded data removed]",
      "text/plain": [
       "<Figure size 432x288 with 1 Axes>"
      ]
     },
     "metadata": {
      "needs_background": "light"
     },
     "output_type": "display_data"
    },
    {
     "data": {
      "text/plain": [
       "<Figure size 432x288 with 0 Axes>"
      ]
     },
     "metadata": {},
     "output_type": "display_data"
    }
   ],
   "source": [
    "ind = np.arange(N)  # the x locations for the groups\n",
    "width = 0.25 \n",
    "\n",
    "ig, ax = plt.subplots()\n",
    "plot1 = ax.bar(ind, rtpj_means, width, color='g', yerr=rtpj_sem, edgecolor='black')\n",
    "plot2 = ax.bar(ind + width, rdlpfc_means, width, color='b', yerr=rdlpfc_sem, edgecolor='black')\n",
    "plot3 = ax.bar(ind + width + width, sync_means, width, color='r', yerr=sync_sem, edgecolor='black')\n",
    "\n",
    "ax.set_ylabel('% Rejected')\n",
    "ax.set_title('High Fairness Rating', fontsize = 15, fontweight=\"bold\")\n",
    "ax.set_xticks(ind + width)\n",
    "ax.set_xticklabels(('1/9', '2/8', '3/7', '4/6', '5/5'))\n",
    "ax.legend((plot1[0], plot2[0], plot3[0]),('rTPJ', 'rDLPFC', 'Sync'), prop={'size': 8})\n",
    "plt.locator_params(axis='y', nbins=5)\n",
    "plt.ylim([0, 100])\n",
    "ax.set_xlabel(\"Offer Type\")\n",
    "def autolabel(rects):\n",
    "    \"\"\"\n",
    "    Attach a text label above each bar displaying its height\n",
    "    \"\"\"\n",
    "    for rect in rects:\n",
    "        height = rect.get_height()\n",
    "        ax.text(rect.get_x() + rect.get_width()/2., 1.05*height,\n",
    "                '%d' % int(height),\n",
    "                ha='center', va='bottom')\n",
    "fig1 = plt.gcf()\n",
    "plt.show()\n",
    "plt.draw()\n",
    "fig1.savefig('high_rating.pdf', dpi=100)\n",
    "plt.show()"
   ]
  },
  {
   "cell_type": "code",
   "execution_count": null,
   "metadata": {},
   "outputs": [],
   "source": []
  }
 ],
 "metadata": {
  "kernelspec": {
   "display_name": "Python 3",
   "language": "python",
   "name": "python3"
  },
  "language_info": {
   "codemirror_mode": {
    "name": "ipython",
    "version": 3
   },
   "file_extension": ".py",
   "mimetype": "text/x-python",
   "name": "python",
   "nbconvert_exporter": "python",
   "pygments_lexer": "ipython3",
   "version": "3.7.1"
  }
 },
 "nbformat": 4,
 "nbformat_minor": 2
}
